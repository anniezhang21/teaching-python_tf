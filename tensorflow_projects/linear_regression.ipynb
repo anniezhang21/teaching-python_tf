{
 "cells": [
  {
   "cell_type": "code",
   "execution_count": 1,
   "metadata": {},
   "outputs": [],
   "source": [
    "import tensorflow as tf\n",
    "import matplotlib.pyplot as plot"
   ]
  },
  {
   "cell_type": "code",
   "execution_count": 2,
   "metadata": {},
   "outputs": [],
   "source": [
    "# Specify the type and shape of input and output data.\n",
    "input_data = tf.placeholder(dtype=tf.float32, shape=None)\n",
    "output_data = tf.placeholder(dtype=tf.float32, shape=None)"
   ]
  },
  {
   "cell_type": "code",
   "execution_count": 3,
   "metadata": {},
   "outputs": [],
   "source": [
    "# Identify parameters to be solved for\n",
    "slope = tf.Variable(0.5, dtype=tf.float32)\n",
    "intercept = tf.Variable(0.1, dtype=tf.float32)"
   ]
  },
  {
   "cell_type": "code",
   "execution_count": 4,
   "metadata": {},
   "outputs": [],
   "source": [
    "# Create the operation used to calculate the guess\n",
    "model_operation = slope * input_data + intercept"
   ]
  },
  {
   "cell_type": "code",
   "execution_count": 5,
   "metadata": {},
   "outputs": [],
   "source": [
    "# Calculate the error of the algorithm's guess\n",
    "error = model_operation - output_data\n",
    "squared_error = tf.square(error)\n",
    "loss = tf.reduce_mean(squared_error)"
   ]
  },
  {
   "cell_type": "code",
   "execution_count": 6,
   "metadata": {},
   "outputs": [],
   "source": [
    "# Set the learning rate hyperparameter and bind the train variable.\n",
    "optimizer = tf.train.GradientDescentOptimizer(learning_rate=0.005)\n",
    "train = optimizer.minimize(loss)\n",
    "# Initialize all our variables.\n",
    "init = tf.global_variables_initializer()"
   ]
  },
  {
   "cell_type": "code",
   "execution_count": 7,
   "metadata": {},
   "outputs": [],
   "source": [
    "# Create an arbitrary data set to bind to input_data and output_data in the feed_dict.    \n",
    "x_values = [0, 1, 2, 3, 4]\n",
    "y_values = [1, 3, 5, 7, 9]   "
   ]
  },
  {
   "cell_type": "code",
   "execution_count": 8,
   "metadata": {},
   "outputs": [
    {
     "name": "stdout",
     "output_type": "stream",
     "text": [
      "[0.608, 0.139]\n",
      "[2.0848742, 0.75335175]\n",
      "[2.0640316, 0.8174552]\n",
      "[2.04749, 0.8646167]\n",
      "[2.0352206, 0.8995935]\n",
      "[2.0261214, 0.9255339]\n",
      "[2.019373, 0.9447724]\n",
      "[2.0143678, 0.9590406]\n",
      "[2.0106556, 0.96962273]\n",
      "[2.0079026, 0.9774708]\n",
      "[2.005861, 0.98329145]\n",
      "[2.0043466, 0.98760843]\n",
      "[2.0032241, 0.9908095]\n",
      "[2.0023913, 0.99318355]\n",
      "[2.0017736, 0.9949442]\n",
      "[2.0013154, 0.9962501]\n",
      "[2.0009763, 0.99721843]\n",
      "[2.0007248, 0.99793625]\n",
      "[2.0005379, 0.9984685]\n",
      "[2.0004, 0.99886304]\n",
      "2.406486e-07\n"
     ]
    }
   ],
   "source": [
    "# Run the simulation 2000 times using tf.Session()\n",
    "with tf.Session() as sess:\n",
    "    sess.run(init)\n",
    "    for i in range(2000):\n",
    "        sess.run(train, feed_dict={input_data:x_values, output_data:y_values})\n",
    "        if i % 100 == 0:\n",
    "            print(sess.run([slope, intercept]))\n",
    "     \n",
    "    print(sess.run(loss, feed_dict={input_data:x_values, output_data:y_values}))"
   ]
  },
  {
   "cell_type": "code",
   "execution_count": null,
   "metadata": {},
   "outputs": [],
   "source": []
  }
 ],
 "metadata": {
  "kernelspec": {
   "display_name": "Python 3",
   "language": "python",
   "name": "python3"
  },
  "language_info": {
   "codemirror_mode": {
    "name": "ipython",
    "version": 3
   },
   "file_extension": ".py",
   "mimetype": "text/x-python",
   "name": "python",
   "nbconvert_exporter": "python",
   "pygments_lexer": "ipython3",
   "version": "3.6.3"
  }
 },
 "nbformat": 4,
 "nbformat_minor": 2
}
